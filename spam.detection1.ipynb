{
  "nbformat": 4,
  "nbformat_minor": 0,
  "metadata": {
    "colab": {
      "provenance": []
    },
    "kernelspec": {
      "name": "python3",
      "display_name": "Python 3"
    },
    "language_info": {
      "name": "python"
    }
  },
  "cells": [
    {
      "cell_type": "code",
      "source": [
        "import numpy as np\n",
        "import pandas as pd\n",
        "from sklearn.preprocessing import LabelEncoder\n",
        "from sklearn.metrics import accuracy_score\n",
        "from sklearn.model_selection import KFold"
      ],
      "metadata": {
        "id": "Tu9eKmbe_7Lo"
      },
      "execution_count": null,
      "outputs": []
    },
    {
      "cell_type": "code",
      "source": [
        "file_path = '/content/spam.csv'\n",
        "data = pd.read_csv(file_path, encoding='latin-1')"
      ],
      "metadata": {
        "id": "Z2zGpbla__UL"
      },
      "execution_count": 7,
      "outputs": []
    },
    {
      "cell_type": "code",
      "source": [
        "print(data.shape)"
      ],
      "metadata": {
        "colab": {
          "base_uri": "https://localhost:8080/"
        },
        "id": "gDKAKQ7pAnL2",
        "outputId": "be36bb49-93a7-40b1-826a-dfa3e1ce5c37"
      },
      "execution_count": 8,
      "outputs": [
        {
          "output_type": "stream",
          "name": "stdout",
          "text": [
            "(5572, 5)\n"
          ]
        }
      ]
    },
    {
      "cell_type": "code",
      "source": [
        "print(data.info())"
      ],
      "metadata": {
        "colab": {
          "base_uri": "https://localhost:8080/"
        },
        "id": "Y8Cm-pqBA4Vu",
        "outputId": "a77d24f9-ea56-4fe1-c524-b27222b418be"
      },
      "execution_count": 9,
      "outputs": [
        {
          "output_type": "stream",
          "name": "stdout",
          "text": [
            "<class 'pandas.core.frame.DataFrame'>\n",
            "RangeIndex: 5572 entries, 0 to 5571\n",
            "Data columns (total 5 columns):\n",
            " #   Column      Non-Null Count  Dtype \n",
            "---  ------      --------------  ----- \n",
            " 0   v1          5572 non-null   object\n",
            " 1   v2          5572 non-null   object\n",
            " 2   Unnamed: 2  50 non-null     object\n",
            " 3   Unnamed: 3  12 non-null     object\n",
            " 4   Unnamed: 4  6 non-null      object\n",
            "dtypes: object(5)\n",
            "memory usage: 217.8+ KB\n",
            "None\n"
          ]
        }
      ]
    },
    {
      "cell_type": "code",
      "source": [
        "print(data.head())"
      ],
      "metadata": {
        "colab": {
          "base_uri": "https://localhost:8080/"
        },
        "id": "03Q_PWa7A-Ne",
        "outputId": "73e3564f-8276-41e5-97b0-c9d2fb86f3bc"
      },
      "execution_count": null,
      "outputs": [
        {
          "output_type": "stream",
          "name": "stdout",
          "text": [
            "     v1                                                 v2 Unnamed: 2  \\\n",
            "0   ham  Go until jurong point, crazy.. Available only ...        NaN   \n",
            "1   ham                      Ok lar... Joking wif u oni...        NaN   \n",
            "2  spam  Free entry in 2 a wkly comp to win FA Cup fina...        NaN   \n",
            "3   ham  U dun say so early hor... U c already then say...        NaN   \n",
            "4   ham  Nah I don't think he goes to usf, he lives aro...        NaN   \n",
            "\n",
            "  Unnamed: 3 Unnamed: 4  \n",
            "0        NaN        NaN  \n",
            "1        NaN        NaN  \n",
            "2        NaN        NaN  \n",
            "3        NaN        NaN  \n",
            "4        NaN        NaN  \n"
          ]
        }
      ]
    },
    {
      "cell_type": "code",
      "source": [
        "data = data[['v1', 'v2']]\n",
        "data.columns = ['label', 'text']\n"
      ],
      "metadata": {
        "id": "xDQD0ZfFBJpY"
      },
      "execution_count": 10,
      "outputs": []
    },
    {
      "cell_type": "code",
      "source": [
        "label_encoder = LabelEncoder()\n",
        "data['label'] = label_encoder.fit_transform(data['label'])\n"
      ],
      "metadata": {
        "id": "j3duiUM3BLbM"
      },
      "execution_count": 11,
      "outputs": []
    },
    {
      "cell_type": "code",
      "source": [
        "keywords = [\"free\", \"win\", \"winner\", \"cash\", \"prize\", \"click\", \"offer\", \"money\"]\n",
        "features = []\n",
        "for text in data['text']:\n",
        "    text_lower = text.lower()\n",
        "    features.append([text_lower.count(keyword) for keyword in keywords])\n",
        "\n",
        "X = np.array(features)\n",
        "y = data['label'].values\n",
        "kf = KFold(n_splits=5, shuffle=True, random_state=42)\n",
        "all_accuracies = []\n",
        "\n",
        "for fold, (train_index, test_index) in enumerate(kf.split(X), start=1):\n",
        "    X_train, X_test = X[train_index], X[test_index]\n",
        "    y_train, y_test = y[train_index], y[test_index]\n",
        "\n",
        "    weights = np.zeros(X_train.shape[1])\n",
        "    bias = 0\n",
        "    learning_rate = 0.1\n",
        "    epochs = 200\n",
        "\n",
        "    for epoch in range(epochs):\n",
        "        for i in range(len(X_train)):\n",
        "            linear_output = np.dot(weights, X_train[i]) + bias\n",
        "            prediction = 1 if linear_output > 0 else 0\n",
        "            error = y_train[i] - prediction\n",
        "            weights += learning_rate * error * X_train[i]\n",
        "            bias += learning_rate * error\n",
        "    y_pred = []\n",
        "    for i in range(len(X_test)):\n",
        "        linear_output = np.dot(weights, X_test[i]) + bias\n",
        "        prediction = 1 if linear_output > 0 else 0\n",
        "        y_pred.append(prediction)\n",
        "\n",
        "    accuracy = accuracy_score(y_test, y_pred)\n",
        "    all_accuracies.append(accuracy)\n",
        "    print(f\"Fold {fold} Accuracy: {accuracy}\")\n",
        "\n",
        "average_accuracy = np.mean(all_accuracies)\n",
        "print(\"Average Accuracy:\", average_accuracy)\n",
        "\n"
      ],
      "metadata": {
        "id": "xqZYYrMtBRhQ",
        "colab": {
          "base_uri": "https://localhost:8080/"
        },
        "outputId": "b0f8e06b-5d21-48a9-b96d-747ea8653cb5"
      },
      "execution_count": 12,
      "outputs": [
        {
          "output_type": "stream",
          "name": "stdout",
          "text": [
            "Fold 1 Accuracy: 0.8869955156950673\n",
            "Fold 2 Accuracy: 0.8816143497757848\n",
            "Fold 3 Accuracy: 0.8931777378815081\n",
            "Fold 4 Accuracy: 0.9201077199281867\n",
            "Fold 5 Accuracy: 0.8761220825852782\n",
            "Average Accuracy: 0.8916034811731649\n"
          ]
        }
      ]
    }
  ]
}